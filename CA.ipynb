{
 "cells": [
  {
   "cell_type": "markdown",
   "id": "6e67e3d4-4f5f-4123-b6fb-6acd5ce78413",
   "metadata": {},
   "source": [
    "# Circuit Analysis"
   ]
  },
  {
   "cell_type": "markdown",
   "id": "cfe633f5-2306-4f82-9382-7a05ad8ea40b",
   "metadata": {},
   "source": [
    "## Ohm's Law"
   ]
  },
  {
   "cell_type": "markdown",
   "id": "5276b5df-85a9-416e-90b8-7b3612bf7c23",
   "metadata": {},
   "source": [
    "### Ohm’s law states that the voltage across a conductor is directly proportional to the current flowing through it, provided all physical conditions and temperatures remain constant."
   ]
  },
  {
   "cell_type": "markdown",
   "id": "cbdeec50-355a-4371-a6d3-9d3f36febee9",
   "metadata": {},
   "source": [
    "- This current-voltage relationship is written as:\n",
    "$$\n",
    "\\large V = IR\n",
    "$$"
   ]
  },
  {
   "cell_type": "markdown",
   "id": "129190c1-baae-40bb-88f8-86a49ee74a4f",
   "metadata": {},
   "source": [
    "- The same formula can be rewritten in order to calculate \n",
    "the current and resistance respectively as follows:\n",
    "$$\n",
    "\\large I = \\frac{V}{R}\n",
    "$$\n",
    "$$\n",
    "\\large R = \\frac{V}{R}\n",
    "$$"
   ]
  },
  {
   "cell_type": "markdown",
   "id": "7f7fce97-860f-4107-ae64-5c8e4a5ec24d",
   "metadata": {},
   "source": [
    "### Code for Ohm's Law"
   ]
  },
  {
   "cell_type": "code",
   "execution_count": 28,
   "id": "60c5f241-02d2-4200-9cc5-cd063f83731c",
   "metadata": {},
   "outputs": [],
   "source": [
    "def ohmsLaw(V=None, I=None, R=None):\n",
    "    if V is None:\n",
    "        V = I * R\n",
    "    elif I is None:\n",
    "        I = V / R\n",
    "    elif R is None:\n",
    "        R = V / I\n",
    "    return V, I, R"
   ]
  },
  {
   "cell_type": "markdown",
   "id": "3eb07c90-a61b-4ed6-84e0-0e9a95d517d9",
   "metadata": {},
   "source": [
    "### Fine Voltage Example"
   ]
  },
  {
   "cell_type": "code",
   "execution_count": 29,
   "id": "080f3f48-ecac-4827-bbe3-ae4b10c0bc31",
   "metadata": {},
   "outputs": [
    {
     "name": "stdout",
     "output_type": "stream",
     "text": [
      "Voltage Example:\n",
      "Voltage: 10 V\n"
     ]
    }
   ],
   "source": [
    "# Voltage Example\n",
    "print(\"Voltage Example:\")\n",
    "v1, i1, r1 = ohmsLaw(I=2, R=5)\n",
    "print(f\"Voltage: {v1} V\")"
   ]
  },
  {
   "cell_type": "markdown",
   "id": "6c3a6863-85de-42ed-bc9d-4043be8677fc",
   "metadata": {},
   "source": [
    "### Fine Current Example"
   ]
  },
  {
   "cell_type": "code",
   "execution_count": 30,
   "id": "923391b4-4d23-49f9-84f7-b3f03c197024",
   "metadata": {},
   "outputs": [
    {
     "name": "stdout",
     "output_type": "stream",
     "text": [
      "Current Example:\n",
      "Current: 2.0 A\n"
     ]
    }
   ],
   "source": [
    "# Current Example\n",
    "print(\"Current Example:\")\n",
    "v0, i0, r0 = ohmsLaw(V=10, R=5)\n",
    "print(f\"Current: {i0} A\")"
   ]
  },
  {
   "cell_type": "markdown",
   "id": "4075e90b-851d-4360-b0b4-2b02617a64f9",
   "metadata": {},
   "source": [
    "### Fine Resisitance Example"
   ]
  },
  {
   "cell_type": "code",
   "execution_count": 31,
   "id": "76877bd3-cbed-4549-b61b-8dd49037b300",
   "metadata": {},
   "outputs": [
    {
     "name": "stdout",
     "output_type": "stream",
     "text": [
      "Resistance Example:\n",
      "Voltage: 10 V, Current: 2 A, Resistance: 5.0 Ω\n"
     ]
    }
   ],
   "source": [
    "# Resistance Examples\n",
    "print(\"Resistance Example:\")\n",
    "v2, i2, r2 = ohmsLaw(V=10, I=2)\n",
    "print(f\"Voltage: {v2} V, Current: {i2} A, Resistance: {r2} Ω\")"
   ]
  },
  {
   "cell_type": "markdown",
   "id": "7189914c-a6f8-4530-a6d3-e1139d2b7d8a",
   "metadata": {},
   "source": [
    "## Kirchhoff's Laws"
   ]
  },
  {
   "cell_type": "markdown",
   "id": "5d593dc2-f7da-4d97-a161-f8e764fa8904",
   "metadata": {},
   "source": [
    "### Kirchhoff's Laws are fundamental principles used in electrical circuit analysis. They consist of two main laws: Kirchhoff's Current Law (KCL) and Kirchhoff's Voltage Law (KVL)."
   ]
  },
  {
   "cell_type": "markdown",
   "id": "97c9f0b3-9fb1-4cb4-9e87-4de5de2d9b12",
   "metadata": {},
   "source": [
    "### Common Code"
   ]
  },
  {
   "cell_type": "code",
   "execution_count": 32,
   "id": "7eb55e27-da1e-4d5d-8914-52f0b613436e",
   "metadata": {},
   "outputs": [],
   "source": [
    "from numpy import array, linalg\n",
    "# Resistances (in ohms)\n",
    "R1 = 10\n",
    "R2 = 20\n",
    "R3 = 30"
   ]
  },
  {
   "cell_type": "markdown",
   "id": "28655e0a-3e22-4719-aca3-a778629a90a1",
   "metadata": {},
   "source": [
    "1. ### Kirchhoff's Current Law (KCL):"
   ]
  },
  {
   "cell_type": "markdown",
   "id": "3ec121e3-fd32-4caa-9c74-af1c87b174e0",
   "metadata": {},
   "source": [
    "- Statement:\n",
    "  The sum of all currents entering a node (or junction) in a circuit is equal to the sum of all currents\n",
    "  leaving the node."
   ]
  },
  {
   "cell_type": "markdown",
   "id": "bebc7d3b-2cc8-44f9-b664-a44356ae9c37",
   "metadata": {},
   "source": [
    "- Equation: \n",
    "$$\n",
    "\\large \\sum_{k=1}^n {I}_k = 0\n",
    "$$"
   ]
  },
  {
   "cell_type": "markdown",
   "id": "be9c70c5-eb5b-4cca-a509-49dbf61577c3",
   "metadata": {},
   "source": [
    "### Code for KCL"
   ]
  },
  {
   "cell_type": "code",
   "execution_count": 33,
   "id": "0e7617f4-2a4a-4874-bcb2-e8ceedbaf5a4",
   "metadata": {},
   "outputs": [
    {
     "name": "stdout",
     "output_type": "stream",
     "text": [
      "Node Voltages:\n",
      "Node Voltage V1: 20.83 V\n",
      "Node Voltage V2: 38.33 V\n"
     ]
    }
   ],
   "source": [
    "# Kirchhoff's Current Law to find the Voltages\n",
    "# Currents entering the nodes (in amperes)\n",
    "I1 = 1.5\n",
    "I2 = 2.5\n",
    "# Coefficient matrix\n",
    "A = array([[1/R1 + 1/R3, -1/R3], [-1/R3, 1/R2 + 1/R3]])\n",
    "# Constant matrix\n",
    "B = array([I1, I2])\n",
    "# Solve for the node voltages using numpy's linear algebra solver\n",
    "nodeVoltages = linalg.solve(A, B)\n",
    "\n",
    "# Display the results\n",
    "V1, V2 = nodeVoltages\n",
    "print(\"Node Voltages:\")\n",
    "print(f\"Node Voltage V1: {V1:.2f} V\")\n",
    "print(f\"Node Voltage V2: {V2:.2f} V\")\n"
   ]
  },
  {
   "cell_type": "markdown",
   "id": "82e0878a-3e41-41a8-8604-6de1da521342",
   "metadata": {
    "jp-MarkdownHeadingCollapsed": true
   },
   "source": [
    "2. ### Kirchhoff's Voltage Law (KVL):"
   ]
  },
  {
   "cell_type": "markdown",
   "id": "660a0765-a406-4dd5-b43e-312356c8f00b",
   "metadata": {},
   "source": [
    "- Statement: The sum of all voltages around a closed loop in a circuit is zero."
   ]
  },
  {
   "cell_type": "markdown",
   "id": "9a846c8c-b4e3-46bb-abb6-53da40c46e94",
   "metadata": {},
   "source": [
    "- Equation:\n",
    "  $$\n",
    "  \\large \\sum_{k=1}^n {V}_k = 0\n",
    "  $$"
   ]
  },
  {
   "cell_type": "markdown",
   "id": "6eb8488d-f1b4-4253-babe-6288de8bc244",
   "metadata": {},
   "source": [
    "### Code for KVL"
   ]
  },
  {
   "cell_type": "code",
   "execution_count": 34,
   "id": "c74a9c47-db51-43f1-9832-72598592261a",
   "metadata": {},
   "outputs": [
    {
     "name": "stdout",
     "output_type": "stream",
     "text": [
      "Currents:\n",
      "Current through R1 and R2 (I1): 0.7272727272727271 A\n",
      "Current through R2 and R3 (I2): 0.5909090909090907 A\n"
     ]
    }
   ],
   "source": [
    "'''\n",
    "Electronic Circuit is\n",
    "┌─ R1 ┬ R2 ─┐\n",
    "V1    R3    V2\n",
    "└─────┴─────┘\n",
    "with following values:\n",
    "'''\n",
    "\n",
    "# Kirchhoff's Voltage Law to find the currents\n",
    "# Voltage sources (in volts)\n",
    "V1 = 10\n",
    "V2 = 15\n",
    "# Coefficient matrix A and the constant matrix B\n",
    "A = array([[R1 + R2, -R2], [-R2, R2 + R3]])\n",
    "B = array([V1, V2])\n",
    "# Solve for the currents using numpy's linear algebra solver\n",
    "currents = linalg.solve(A, B)\n",
    "\n",
    "# Display the results\n",
    "print(\"Currents:\")\n",
    "print(f\"Current through R1 and R2 (I1): {currents[0]} A\")\n",
    "print(f\"Current through R2 and R3 (I2): {currents[1]} A\")\n"
   ]
  },
  {
   "cell_type": "code",
   "execution_count": null,
   "id": "490731b8-22cb-4337-b199-2ff1115bee90",
   "metadata": {},
   "outputs": [],
   "source": []
  }
 ],
 "metadata": {
  "kernelspec": {
   "display_name": "Python 3 (ipykernel)",
   "language": "python",
   "name": "python3"
  },
  "language_info": {
   "codemirror_mode": {
    "name": "ipython",
    "version": 3
   },
   "file_extension": ".py",
   "mimetype": "text/x-python",
   "name": "python",
   "nbconvert_exporter": "python",
   "pygments_lexer": "ipython3",
   "version": "3.12.3"
  }
 },
 "nbformat": 4,
 "nbformat_minor": 5
}
